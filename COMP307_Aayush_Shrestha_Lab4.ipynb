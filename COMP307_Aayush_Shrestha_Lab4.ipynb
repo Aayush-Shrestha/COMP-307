{
 "cells": [
  {
   "cell_type": "code",
   "execution_count": 1,
   "id": "92b0184b-35e1-4848-a866-b188e904ccb9",
   "metadata": {},
   "outputs": [],
   "source": [
    "# Variable Initialization\n",
    "frame_size = 4\n",
    "reference_string = [1, 0, 2, 2, 1, 7, 6, 1, 2, 0, 3, 4, 5, 2, 4, 5, 6, 7, 4, 2, 3]"
   ]
  },
  {
   "cell_type": "markdown",
   "id": "e8e8d22b-fad3-4254-be7b-f9a1abd0fb8f",
   "metadata": {},
   "source": [
    "###### First In First Out Page Replacement"
   ]
  },
  {
   "cell_type": "code",
   "execution_count": 2,
   "id": "d14392c6-426a-430f-ac34-d059bd7ffc21",
   "metadata": {},
   "outputs": [],
   "source": [
    "def FIFO(reference_string, frame_size):\n",
    "    \n",
    "    page_faults = 0\n",
    "    frame = [None] * frame_size\n",
    "    j = i = 0\n",
    "    \n",
    "    for ref in reference_string:\n",
    "        \n",
    "        if ref not in frame:\n",
    "            page_faults += 1\n",
    "            frame[i] = ref\n",
    "            i = ( i + 1 ) % frame_size\n",
    "            j = j + 1\n",
    "            print(j,'-',frame)\n",
    "            \n",
    "    return page_faults"
   ]
  },
  {
   "cell_type": "code",
   "execution_count": 3,
   "id": "26a4e87c-ee00-4910-8d2c-de2f3d470329",
   "metadata": {},
   "outputs": [
    {
     "name": "stdout",
     "output_type": "stream",
     "text": [
      "1 - [1, None, None, None]\n",
      "2 - [1, 0, None, None]\n",
      "3 - [1, 0, 2, None]\n",
      "4 - [1, 0, 2, 7]\n",
      "5 - [6, 0, 2, 7]\n",
      "6 - [6, 1, 2, 7]\n",
      "7 - [6, 1, 0, 7]\n",
      "8 - [6, 1, 0, 3]\n",
      "9 - [4, 1, 0, 3]\n",
      "10 - [4, 5, 0, 3]\n",
      "11 - [4, 5, 2, 3]\n",
      "12 - [4, 5, 2, 6]\n",
      "13 - [7, 5, 2, 6]\n",
      "14 - [7, 4, 2, 6]\n",
      "15 - [7, 4, 3, 6]\n",
      "Number of page faults using FIFO algorithm with frame size 4: 15\n"
     ]
    }
   ],
   "source": [
    "page_faults = FIFO(reference_string, frame_size)\n",
    "\n",
    "print(f\"Number of page faults using FIFO algorithm with frame size {frame_size}: {page_faults}\")"
   ]
  },
  {
   "cell_type": "markdown",
   "id": "5dbb1edd-976e-4464-a759-b6adc4009405",
   "metadata": {},
   "source": [
    "## Optimal Page Replacement"
   ]
  },
  {
   "cell_type": "code",
   "execution_count": 4,
   "id": "58e03e0f-189e-4711-870d-bf8baf2bab0c",
   "metadata": {},
   "outputs": [],
   "source": [
    "def Optimal(reference_string, frame_size):\n",
    "    \n",
    "    page_faults = 0\n",
    "    frame = [None] * frame_size\n",
    "    n = 0\n",
    "        \n",
    "    for i in range(len(reference_string)):\n",
    "        ref = reference_string[i]\n",
    "        \n",
    "        if ref not in frame:\n",
    "            j = i\n",
    "            frame_copy = frame.copy()\n",
    "        \n",
    "            while len(frame_copy) != 1 and j < len(reference_string):\n",
    "                Ref = reference_string[j]\n",
    "            \n",
    "                if Ref in frame_copy:\n",
    "                    frame_copy.remove(Ref)\n",
    "                \n",
    "                j += 1\n",
    "           \n",
    "            page_faults += 1\n",
    "            index = frame.index(frame_copy[0])\n",
    "            frame[index] = ref\n",
    "            n += 1\n",
    "            print(n,'-',frame)\n",
    "    \n",
    "    return page_faults"
   ]
  },
  {
   "cell_type": "code",
   "execution_count": 5,
   "id": "4fdce4b3-09dc-4018-9ea7-93c8b8e28d39",
   "metadata": {},
   "outputs": [
    {
     "name": "stdout",
     "output_type": "stream",
     "text": [
      "1 - [1, None, None, None]\n",
      "2 - [1, 0, None, None]\n",
      "3 - [1, 0, 2, None]\n",
      "4 - [1, 0, 2, 7]\n",
      "5 - [1, 0, 2, 6]\n",
      "6 - [3, 0, 2, 6]\n",
      "7 - [3, 4, 2, 6]\n",
      "8 - [5, 4, 2, 6]\n",
      "9 - [7, 4, 2, 6]\n",
      "10 - [3, 4, 2, 6]\n",
      "Number of page faults using Optimal Scheduling algorithm with frame size 4: 10\n"
     ]
    }
   ],
   "source": [
    "#[1, 0, 2, 2, 1, 7, 6, 1, 2, 0, 3, 4, 5, 2, 4, 5, 6, 7, 4, 2, 3]\n",
    "page_faults = Optimal(reference_string, frame_size)\n",
    "\n",
    "print(f\"Number of page faults using Optimal Scheduling algorithm with frame size {frame_size}: {page_faults}\")"
   ]
  },
  {
   "cell_type": "markdown",
   "id": "a8ab0e2b-4014-4a19-b715-4a3bf7444042",
   "metadata": {},
   "source": [
    "## Least recently used (LRU) Page Replacement"
   ]
  },
  {
   "cell_type": "code",
   "execution_count": 6,
   "id": "9e244d42-2806-47d3-b71a-d3daeea0b92d",
   "metadata": {},
   "outputs": [],
   "source": [
    "def LRU(reference_string, frame_size):\n",
    "    \n",
    "    page_faults = 0\n",
    "    frame = [None] * frame_size\n",
    "    n = 0\n",
    "    access = [0] * frame_size\n",
    "        \n",
    "    for i in range(len(reference_string)):\n",
    "        ref = reference_string[i]\n",
    "        \n",
    "        if ref in frame:\n",
    "            index = frame.index(ref)\n",
    "            access[index] = 1 + max(access)\n",
    "        \n",
    "        elif ref not in frame:\n",
    "            index  = access.index(min(access))\n",
    "            page_faults += 1\n",
    "            frame[index] = ref\n",
    "            access[index] = 1 + max(access)\n",
    "            n += 1\n",
    "            print(n,'-',frame)\n",
    "    \n",
    "    return page_faults"
   ]
  },
  {
   "cell_type": "code",
   "execution_count": 7,
   "id": "70e4e275-558b-4ade-9829-e3d2e22bdf74",
   "metadata": {},
   "outputs": [
    {
     "name": "stdout",
     "output_type": "stream",
     "text": [
      "1 - [1, None, None, None]\n",
      "2 - [1, 0, None, None]\n",
      "3 - [1, 0, 2, None]\n",
      "4 - [1, 0, 2, 7]\n",
      "5 - [1, 6, 2, 7]\n",
      "6 - [1, 6, 2, 0]\n",
      "7 - [1, 3, 2, 0]\n",
      "8 - [4, 3, 2, 0]\n",
      "9 - [4, 3, 5, 0]\n",
      "10 - [4, 3, 5, 2]\n",
      "11 - [4, 6, 5, 2]\n",
      "12 - [4, 6, 5, 7]\n",
      "13 - [4, 6, 2, 7]\n",
      "14 - [4, 3, 2, 7]\n",
      "Number of page faults using Least Recently Used Scheduling algorithm with frame size 4: 14\n"
     ]
    }
   ],
   "source": [
    "page_faults = LRU(reference_string, frame_size)\n",
    "\n",
    "print(f\"Number of page faults using Least Recently Used Scheduling algorithm with frame size {frame_size}: {page_faults}\")"
   ]
  },
  {
   "cell_type": "markdown",
   "id": "cf47497e-7428-4406-bc36-f49997d4d7d8",
   "metadata": {},
   "source": [
    "## Second-chance Page Replacement"
   ]
  },
  {
   "cell_type": "code",
   "execution_count": 8,
   "id": "977da8db",
   "metadata": {},
   "outputs": [],
   "source": [
    "def FIFO_Second(reference_string, frame_size):\n",
    "    \n",
    "    page_faults = 0\n",
    "    frame = [None] * frame_size\n",
    "    refer = [0] * frame_size\n",
    "    j = -1\n",
    "    n = 0\n",
    "    \n",
    "    for i in range(len(reference_string)):\n",
    "        ref = reference_string[i]\n",
    "       \n",
    "        if ref in frame:\n",
    "            index = frame.index(ref)\n",
    "            refer[index] = 1\n",
    "        \n",
    "        elif ref not in frame:\n",
    "            j = (j + 1) % frame_size\n",
    "            if frame[j] == None:\n",
    "                page_faults += 1\n",
    "                frame[j] = ref\n",
    "                refer[j] = 1\n",
    "            \n",
    "            else:\n",
    "                if refer[j] == 0:\n",
    "                    frame[j] = ref\n",
    "                    refer[j] = 1\n",
    "                    page_faults += 1\n",
    "                else:\n",
    "                    refer[j] = 0\n",
    "                    k = (j + 1) % frame_size\n",
    "                    \n",
    "                    while refer[k] != 0:\n",
    "                        refer[k] = 0\n",
    "                        k = ( k + 1 ) % frame_size\n",
    "                \n",
    "                    page_faults += 1\n",
    "                    frame[k] = ref\n",
    "                    refer[k] = 1\n",
    "            \n",
    "            n += 1\n",
    "            print(n,'-',frame)\n",
    "            \n",
    "    return page_faults"
   ]
  },
  {
   "cell_type": "code",
   "execution_count": 9,
   "id": "2e556b95",
   "metadata": {},
   "outputs": [
    {
     "name": "stdout",
     "output_type": "stream",
     "text": [
      "1 - [1, None, None, None]\n",
      "2 - [1, 0, None, None]\n",
      "3 - [1, 0, 2, None]\n",
      "4 - [1, 0, 2, 7]\n",
      "5 - [6, 0, 2, 7]\n",
      "6 - [6, 1, 2, 7]\n",
      "7 - [6, 1, 2, 0]\n",
      "8 - [6, 1, 3, 0]\n",
      "9 - [4, 1, 3, 0]\n",
      "10 - [4, 5, 3, 0]\n",
      "11 - [4, 5, 3, 2]\n",
      "12 - [4, 5, 6, 2]\n",
      "13 - [7, 5, 6, 2]\n",
      "14 - [7, 4, 6, 2]\n",
      "15 - [7, 4, 3, 2]\n",
      "Number of page faults using FIFO Second Chance Scheduling algorithm with frame size 4: 15\n"
     ]
    }
   ],
   "source": [
    "page_faults = FIFO_Second(reference_string, frame_size)\n",
    "\n",
    "print(f\"Number of page faults using FIFO Second Chance Scheduling algorithm with frame size {frame_size}: {page_faults}\")"
   ]
  }
 ],
 "metadata": {
  "kernelspec": {
   "display_name": "Python 3 (ipykernel)",
   "language": "python",
   "name": "python3"
  },
  "language_info": {
   "codemirror_mode": {
    "name": "ipython",
    "version": 3
   },
   "file_extension": ".py",
   "mimetype": "text/x-python",
   "name": "python",
   "nbconvert_exporter": "python",
   "pygments_lexer": "ipython3",
   "version": "3.8.10"
  }
 },
 "nbformat": 4,
 "nbformat_minor": 5
}
